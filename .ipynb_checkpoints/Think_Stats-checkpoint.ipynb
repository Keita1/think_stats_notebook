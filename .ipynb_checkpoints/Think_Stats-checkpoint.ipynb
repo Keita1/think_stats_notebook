{
 "cells": [
  {
   "cell_type": "markdown",
   "metadata": {},
   "source": [
    "# Chapter 1: Statistical Thinking for Programmers"
   ]
  },
  {
   "cell_type": "markdown",
   "metadata": {},
   "source": [
    "Download the files: 2002FemResp.dat.gz and 2002FemPreg.dat.gz."
   ]
  },
  {
   "cell_type": "code",
   "execution_count": 1,
   "metadata": {
    "collapsed": true
   },
   "outputs": [],
   "source": [
    "import matplotlib.pyplot as pyplot\n",
    "%matplotlib inline"
   ]
  },
  {
   "cell_type": "code",
   "execution_count": 2,
   "metadata": {
    "collapsed": false
   },
   "outputs": [
    {
     "data": {
      "text/plain": [
       "('2002FemResp.dat.gz', <httplib.HTTPMessage instance at 0x1040e5d88>)"
      ]
     },
     "execution_count": 2,
     "metadata": {},
     "output_type": "execute_result"
    }
   ],
   "source": [
    "import urllib\n",
    "\n",
    "urllib.urlretrieve (\"http://greenteapress.com/thinkstats/2002FemPreg.dat.gz\", \"2002FemPreg.dat.gz\")\n",
    "urllib.urlretrieve (\"http://greenteapress.com/thinkstats/2002FemResp.dat.gz\", \"2002FemResp.dat.gz\")\n"
   ]
  },
  {
   "cell_type": "code",
   "execution_count": 9,
   "metadata": {
    "collapsed": false
   },
   "outputs": [
    {
     "ename": "TypeError",
     "evalue": "main() takes at most 2 arguments (3 given)",
     "output_type": "error",
     "traceback": [
      "\u001b[0;31m---------------------------------------------------------------------------\u001b[0m",
      "\u001b[0;31mTypeError\u001b[0m                                 Traceback (most recent call last)",
      "\u001b[0;32m<ipython-input-9-e3931d5ef8c3>\u001b[0m in \u001b[0;36m<module>\u001b[0;34m()\u001b[0m\n\u001b[0;32m----> 1\u001b[0;31m \u001b[0mexecfile\u001b[0m\u001b[0;34m(\u001b[0m\u001b[0;34m\"survey.py\"\u001b[0m\u001b[0;34m)\u001b[0m \u001b[0;31m# This command will produce an error\u001b[0m\u001b[0;34m\u001b[0m\u001b[0m\n\u001b[0m\u001b[1;32m      2\u001b[0m \u001b[0;31m# (\"TypeError: main() takes at most 2 arguments (3 given)\")\u001b[0m\u001b[0;34m\u001b[0m\u001b[0;34m\u001b[0m\u001b[0m\n\u001b[1;32m      3\u001b[0m \u001b[0;31m# in the notebook; ignore and move on.\u001b[0m\u001b[0;34m\u001b[0m\u001b[0;34m\u001b[0m\u001b[0m\n",
      "\u001b[0;32m/Users/keitabroadwater/galvanize/stats_practice/think_stats_notebook/survey.py\u001b[0m in \u001b[0;36m<module>\u001b[0;34m()\u001b[0m\n\u001b[1;32m    196\u001b[0m \u001b[0;34m\u001b[0m\u001b[0m\n\u001b[1;32m    197\u001b[0m \u001b[0;32mif\u001b[0m \u001b[0m__name__\u001b[0m \u001b[0;34m==\u001b[0m \u001b[0;34m'__main__'\u001b[0m\u001b[0;34m:\u001b[0m\u001b[0;34m\u001b[0m\u001b[0m\n\u001b[0;32m--> 198\u001b[0;31m     \u001b[0mmain\u001b[0m\u001b[0;34m(\u001b[0m\u001b[0;34m*\u001b[0m\u001b[0msys\u001b[0m\u001b[0;34m.\u001b[0m\u001b[0margv\u001b[0m\u001b[0;34m)\u001b[0m\u001b[0;34m\u001b[0m\u001b[0m\n\u001b[0m",
      "\u001b[0;31mTypeError\u001b[0m: main() takes at most 2 arguments (3 given)"
     ]
    }
   ],
   "source": [
    "execfile(\"survey.py\") # This command will produce an error\n",
    "# (\"TypeError: main() takes at most 2 arguments (3 given)\") \n",
    "# in the notebook; ignore and move on."
   ]
  },
  {
   "cell_type": "markdown",
   "metadata": {},
   "source": [
    "No need to unzip these files as the included module survey.py does this for you. Needless to say, you should have this file in your directory to proceed.\n",
    "\n",
    "Exercise 1.2 Involves reading the documentation for the data you downloaded and doing some preliminary data exploration using the survey module"
   ]
  },
  {
   "cell_type": "code",
   "execution_count": 10,
   "metadata": {
    "collapsed": false
   },
   "outputs": [
    {
     "name": "stdout",
     "output_type": "stream",
     "text": [
      "Number of respondents 7643\n",
      "Number of pregnancies 13593\n"
     ]
    }
   ],
   "source": [
    "import survey\n",
    "\n",
    "data_dir='.'\n",
    "\n",
    "resp = Respondents()\n",
    "resp.ReadRecords(data_dir)\n",
    "print 'Number of respondents', len(resp.records)\n",
    "\n",
    "preg = Pregnancies()\n",
    "preg.ReadRecords(data_dir)\n",
    "print 'Number of pregnancies', len(preg.records)\n"
   ]
  },
  {
   "cell_type": "markdown",
   "metadata": {},
   "source": [
    "Exercise 1.3 \n",
    "In this exercise you will write a program to explore the data in\n",
    "the Pregnancies table.\n",
    "1. In the directory where you put survey.py and the data files, create a\n",
    "file named first.py and type or paste in the following code:\n",
    "\n",
    "        import survey\n",
    "        table = survey.Pregnancies()\n",
    "        table.ReadRecords()\n",
    "        print 'Number of pregnancies', len(table.records)\n",
    "\n",
    "\n",
    "The result should be 13593 pregnancies.\n"
   ]
  },
  {
   "cell_type": "code",
   "execution_count": 11,
   "metadata": {
    "collapsed": false
   },
   "outputs": [
    {
     "name": "stdout",
     "output_type": "stream",
     "text": [
      "Number of pregnancies 13593\n"
     ]
    }
   ],
   "source": [
    "import survey \n",
    "table = survey.Pregnancies() \n",
    "table.ReadRecords() \n",
    "print 'Number of pregnancies', len(table.records)"
   ]
  },
  {
   "cell_type": "markdown",
   "metadata": {},
   "source": [
    " #2 Write a loop that iterates table and counts the number of live births.\n",
    "Find the documentation of outcome and confirm that your result is\n",
    "consistent with the summary in the documentation."
   ]
  },
  {
   "cell_type": "code",
   "execution_count": 12,
   "metadata": {
    "collapsed": false
   },
   "outputs": [
    {
     "name": "stdout",
     "output_type": "stream",
     "text": [
      "number of live births: 9148\n"
     ]
    }
   ],
   "source": [
    "outcms = 0\n",
    "\n",
    "for recd in table.records:\n",
    "    if recd.outcome == 1:\n",
    "        outcms += 1\n",
    "       \n",
    "\n",
    "print \"number of live births:\", outcms\n"
   ]
  },
  {
   "cell_type": "markdown",
   "metadata": {},
   "source": [
    "#3 Modify the loop to partition the live birth records into two groups, one\n",
    "for first babies and one for the others. Again, read the documentation\n",
    "of birthord to see if your results are consistent.\n",
    "When you are working with a new dataset, these kinds of checks\n",
    "are useful for finding errors and inconsistencies in the data, detecting\n",
    "bugs in your program, and checking your understanding of the\n",
    "way the fields are encoded.\n",
    "#4 Compute the average pregnancy length (in weeks) for first babies and\n",
    "others. Is there a difference between the groups? How big is it?"
   ]
  },
  {
   "cell_type": "code",
   "execution_count": 13,
   "metadata": {
    "collapsed": false
   },
   "outputs": [
    {
     "name": "stdout",
     "output_type": "stream",
     "text": [
      "Number of pregnancies 13593\n",
      "Number of livebirths, and mean gestation period (in weeks) for first born babies: 4735 38.5229144667\n",
      "Number of livebirths, and mean gestation period (in weeks) for babies not first born: 4413 38.6009517335\n",
      "The mean gestation period differs by 13.110261 hours\n"
     ]
    }
   ],
   "source": [
    "# This would be module \"first.py\"\n",
    "\n",
    "import survey\n",
    "table = survey.Pregnancies()\n",
    "table.ReadRecords()\n",
    "print 'Number of pregnancies', len(table.records)\n",
    "\n",
    "outcmsf = 0\n",
    "outcmso = 0\n",
    "lenpregf = 0.\n",
    "lenprego = 0.\n",
    "\n",
    "for recd in table.records:\n",
    "    if recd.outcome == 1:\n",
    "        if recd.birthord == 1:\n",
    "            outcmsf += 1\n",
    "            lenpregf += recd.prglength\n",
    "        else:\n",
    "            outcmso +=1\n",
    "            lenprego += recd.prglength\n",
    "\n",
    "print \"Number of livebirths, and mean gestation period (in weeks) for first born babies:\", outcmso, lenprego/outcmso\n",
    "print \"Number of livebirths, and mean gestation period (in weeks) for babies not first born:\", outcmsf, lenpregf/outcmsf\n",
    "\n",
    "# Compute difference in mean periods in hours\n",
    "\n",
    "diff_gest = (lenprego/outcmso - lenpregf/outcmsf)* 7 * 24 * -1\n",
    "\n",
    "print \"The mean gestation period differs by %f hours\" % (diff_gest)\n"
   ]
  },
  {
   "cell_type": "markdown",
   "metadata": {},
   "source": [
    "# Chapter 2: Descriptive Statistics "
   ]
  },
  {
   "cell_type": "markdown",
   "metadata": {},
   "source": [
    "Exercise 2.1 For the exercises in this chapter you should download http:\n",
    "//thinkstats.com/thinkstats.py, which contains general-purpose functions\n",
    "we will use throughout the book. You can read documentation of\n",
    "these functions in http://thinkstats.com/thinkstats.html.\n",
    "Write a function called Pumpkin that uses functions from thinkstats.py\n",
    "to compute the mean, variance and standard deviation of the pumpkins\n",
    "weights in the previous section."
   ]
  },
  {
   "cell_type": "code",
   "execution_count": 15,
   "metadata": {
    "collapsed": false,
    "scrolled": true
   },
   "outputs": [
    {
     "name": "stdout",
     "output_type": "stream",
     "text": [
      "Pumpkin Sizes? Use' a, b, c,....' format.6,7,8,7,7,7,7,7\n",
      "This is your list of pumpkin sizes [6, 7, 8, 7, 7, 7, 7, 7]\n",
      "The mean of the pumpkins: 7.0\n",
      "The variance of the pumpkins: 0.25\n",
      "The standard deviation of the pumpkins: 0.5\n"
     ]
    }
   ],
   "source": [
    "\"\"\"Write a function called Pumpkin that uses functions from thinkstats.py\n",
    "to compute the mean, variance and standard deviation of the pumpkins\n",
    "weights in the previous section.\"\"\"\n",
    "\n",
    "import thinkstats\n",
    "import math\n",
    "\n",
    "list_string = raw_input(\"Pumpkin Sizes? Use' a, b, c,....' format.\")\n",
    "lst = [int(i) for i in list_string.split(',')]\n",
    "print \"This is your list of pumpkin sizes\", lst\n",
    "\n",
    "print \"The mean of the pumpkins:\", thinkstats.Mean(lst)\n",
    "\n",
    "print \"The variance of the pumpkins:\", thinkstats.Var(lst)\n",
    "\n",
    "print \"The standard deviation of the pumpkins:\", math.sqrt(thinkstats.Var(lst))\n"
   ]
  },
  {
   "cell_type": "markdown",
   "metadata": {},
   "source": [
    "Exercise 2.2 Reusing code from survey.py and first.py, compute the standard\n",
    "deviation of gestation time for first babies and others. Does it look like\n",
    "the spread is the same for the two groups?\n",
    "How big is the difference in the means compared to these standard deviations?\n",
    "What does this comparison suggest about the statistical significance\n",
    "of the difference?"
   ]
  },
  {
   "cell_type": "code",
   "execution_count": 16,
   "metadata": {
    "collapsed": false
   },
   "outputs": [
    {
     "name": "stdout",
     "output_type": "stream",
     "text": [
      "The standard deviation of the first born, and other born gestation periods, respectively are: 2.79158506982 2.61557611068\n",
      "The difference in standard deviations is: 0.17600895914\n"
     ]
    }
   ],
   "source": [
    "# using the variables from the \"first.py\" script, above. There is no first.py script to import, just make sure the 'first.py' \n",
    "# cell above is activated.\n",
    "\n",
    "first_born_gest = []\n",
    "other_born_gest = []\n",
    "\n",
    "\n",
    "for recd in table.records:\n",
    "    if recd.outcome == 1:\n",
    "        if recd.birthord == 1:\n",
    "            outcmsf += 1\n",
    "            lenpregf += recd.prglength\n",
    "            first_born_gest.append(recd.prglength)\n",
    "        else:\n",
    "            outcmso +=1\n",
    "            lenprego += recd.prglength\n",
    "            other_born_gest.append(recd.prglength)\n",
    "\n",
    "\n",
    "print \"The standard deviation of the first born, and other born gestation periods, respectively are:\", \\\n",
    "math.sqrt(thinkstats.Var(first_born_gest)), math.sqrt(thinkstats.Var(other_born_gest))\n",
    "print \"The difference in standard deviations is:\", math.sqrt(thinkstats.Var(first_born_gest)) - math.sqrt(thinkstats.Var(other_born_gest))"
   ]
  },
  {
   "cell_type": "markdown",
   "metadata": {},
   "source": [
    "Exercise 2.3 The mode of a distribution is the most frequent value (see http:\n",
    "//wikipedia.org/wiki/Mode_(statistics)). Write a function called Mode\n",
    "that takes a Hist object and returns the most frequent value.\n",
    "As a more challenging version, write a function called AllModes that takes\n",
    "a Hist object and returns a list of value-frequency pairs in descending order\n",
    "of frequency. Hint: the operator module provides a function called\n",
    "itemgetter which you can pass as a key to sorted."
   ]
  },
  {
   "cell_type": "code",
   "execution_count": 20,
   "metadata": {
    "collapsed": false
   },
   "outputs": [],
   "source": [
    "def mode_calc():\n",
    "    \n",
    "    import Pmf\n",
    "    lst_for_stats = raw_input(\"Please enter numbers, separated by commas:\")\n",
    "    lst_b = [int(i) for i in lst_for_stats.split(',')]\n",
    "    print \"This is your list:\", lst_b\n",
    "    hist_a = Pmf.MakeHistFromList(lst_b)\n",
    "    hist_a_dict = hist_a.GetDict()\n",
    "    sorted_lst_k = sorted(hist_a_dict, key = lambda x: hist_a_dict[x], reverse = True)\n",
    "    mode_list = [sorted_lst_k[0]]\n",
    "    for i in range(len(sorted_lst_k)):\n",
    "\n",
    "        if hist_a_dict[sorted_lst_k[i]] != hist_a_dict[sorted_lst_k[i+1]]:\n",
    "            if len(mode_list) == 1:\n",
    "                print \"The mode is:\", mode_list\n",
    "                return\n",
    "            else:\n",
    "                print \"The modes are:\", mode_list\n",
    "                return\n",
    "        else:\n",
    "            mode_list.append(sorted_lst_k[i+1])"
   ]
  },
  {
   "cell_type": "code",
   "execution_count": 21,
   "metadata": {
    "collapsed": false
   },
   "outputs": [],
   "source": [
    "import Pmf\n",
    "def all_modes():\n",
    "    \n",
    "    lst_for_stats = raw_input(\"Please enter numbers, separated by commas:\")\n",
    "    lst_b = [int(i) for i in lst_for_stats.split(',')]\n",
    "    print \"This is your list:\", lst_b\n",
    "    hist_a = Pmf.MakeHistFromList(lst_b)\n",
    "    hist_a_dict = hist_a.GetDict()\n",
    "    sorted_lst_k = sorted(hist_a_dict, key = lambda x: hist_a_dict[x], reverse = True)\n",
    "    all_mode_list = []\n",
    "    for i in sorted_lst_k:\n",
    "        \n",
    "        all_mode_list.append((i, hist_a_dict[i]) )\n",
    "    print all_mode_list"
   ]
  },
  {
   "cell_type": "code",
   "execution_count": 22,
   "metadata": {
    "collapsed": false
   },
   "outputs": [
    {
     "name": "stdout",
     "output_type": "stream",
     "text": [
      "Please enter numbers, separated by commas:5,6,7,7,7,7,7,7,77\n",
      "This is your list: [5, 6, 7, 7, 7, 7, 7, 7, 77]\n",
      "[(7, 6), (77, 1), (5, 1), (6, 1)]\n"
     ]
    }
   ],
   "source": [
    "all_modes()"
   ]
  },
  {
   "cell_type": "code",
   "execution_count": 23,
   "metadata": {
    "collapsed": false
   },
   "outputs": [],
   "source": [
    "hist_a = Pmf.MakeHistFromList([1,2,3,4,4,4,4,5,6,7,8,9])"
   ]
  },
  {
   "cell_type": "code",
   "execution_count": 24,
   "metadata": {
    "collapsed": false
   },
   "outputs": [
    {
     "name": "stdout",
     "output_type": "stream",
     "text": [
      "1 1\n",
      "2 1\n",
      "3 1\n",
      "4 4\n",
      "5 1\n",
      "6 1\n",
      "7 1\n",
      "8 1\n",
      "9 1\n"
     ]
    }
   ],
   "source": [
    "for val in sorted(hist_a.Values()):\n",
    "    print val, hist_a.Freq(val)"
   ]
  },
  {
   "cell_type": "code",
   "execution_count": 25,
   "metadata": {
    "collapsed": false
   },
   "outputs": [],
   "source": [
    "val, freq = hist_a.Render()"
   ]
  },
  {
   "cell_type": "code",
   "execution_count": 26,
   "metadata": {
    "collapsed": false
   },
   "outputs": [
    {
     "data": {
      "text/plain": [
       "<Container object of 9 artists>"
      ]
     },
     "execution_count": 26,
     "metadata": {},
     "output_type": "execute_result"
    },
    {
     "data": {
      "image/png": "[encoded data removed]",
      "text/plain": [
       "<matplotlib.figure.Figure at 0x10a72e650>"
      ]
     },
     "metadata": {},
     "output_type": "display_data"
    }
   ],
   "source": [
    "pyplot.bar(val, freq)"
   ]
  },
  {
   "cell_type": "markdown",
   "metadata": {
    "collapsed": true
   },
   "source": [
    "Exercise 2.4 According toWikipedia, “Survival analysis is a branch of statistics\n",
    "which deals with death in biological organisms and failure in mechanical\n",
    "systems;” see http://wikipedia.org/wiki/Survival_analysis.\n",
    "As part of survival analysis, it is often useful to compute the remaining lifetime\n",
    "of, for example, a mechanical component. If we know the distribution\n",
    "of lifetimes and the age of the component, we can compute the distribution\n",
    "of remaining lifetimes.\n",
    "Write a function called RemainingLifetime that takes a Pmf of lifetimes and\n",
    "an age, and returns a new Pmf that represents the distribution of remaining\n",
    "lifetimes."
   ]
  },
  {
   "cell_type": "code",
   "execution_count": 30,
   "metadata": {
    "collapsed": false
   },
   "outputs": [],
   "source": [
    "import Pmf\n",
    "def RemaningLifetime():\n",
    "    cutoff = 0\n",
    "    raw_lst = raw_input(\"Give me a list of lifetimes: \")\n",
    "    age = int(raw_input(\"Give me an age: \"))\n",
    "    \n",
    "    lst = [int(i) for i in raw_lst.split(',')]\n",
    "    \n",
    "    \n",
    "    agepmf = Pmf.MakePmfFromList(lst)\n",
    "    print agepmf.Values(), agepmf.Total()\n",
    "    for val in sorted(agepmf.Values()):\n",
    "        if age <= val:\n",
    "            cutoff = val\n",
    "            break\n",
    "        else:\n",
    "            agepmf.Remove(val)\n",
    "\n",
    "    agepmf.Normalize()\n",
    "    \n",
    "    print \"The cutoff is: \", cutoff,\". \"\n",
    "    print \"The new distribution of ages is: \", agepmf.Values()\n",
    "    vals, freq = agepmf.Render()\n",
    "    rectangles = pyplot.bar(vals, freq)\n",
    "    pyplot.show()\n",
    "    "
   ]
  },
  {
   "cell_type": "code",
   "execution_count": 31,
   "metadata": {
    "collapsed": false
   },
   "outputs": [
    {
     "name": "stdout",
     "output_type": "stream",
     "text": [
      "Give me a list of lifetimes: 3,2,4,5,6,3,5,7,1,2,3,8,4,3,1,2,5,3\n",
      "Give me an age: 3\n",
      "[1, 2, 3, 4, 5, 6, 7, 8] 1.0\n",
      "The cutoff is:  3 . \n",
      "The new distribution of ages is:  [3, 4, 5, 6, 7, 8]\n"
     ]
    },
    {
     "data": {
      "image/png": "[encoded data removed]",
      "text/plain": [
       "<matplotlib.figure.Figure at 0x103f5c650>"
      ]
     },
     "metadata": {},
     "output_type": "display_data"
    }
   ],
   "source": [
    "RemaningLifetime()"
   ]
  },
  {
   "cell_type": "markdown",
   "metadata": {},
   "source": [
    "Exercise 2.5 In Section 2.1 we computed the mean of a sample by adding\n",
    "up the elements and dividing by n. If you are given a PMF, you can still\n",
    "compute the mean, but the process is slightly different:\n",
    "m =åi\n",
    "pixi\n",
    "where the xi are the unique values in the PMF and pi=PMF(xi). Similarly,\n",
    "you can compute variance like this:\n",
    "s2 =åi\n",
    "pi(xi 􀀀 m)2\n",
    "Write functions called PmfMean and PmfVar that take a Pmf object and compute\n",
    "the mean and variance. To test these methods, check that they are\n",
    "consistent with the methods Mean and Var in Pmf.py."
   ]
  },
  {
   "cell_type": "code",
   "execution_count": 59,
   "metadata": {
    "collapsed": false
   },
   "outputs": [],
   "source": [
    "def PmfMean():\n",
    "    initial_pmf_from_list = Pmf.MakePmfFromList([int(i) for i in raw_input(\"Please enter list: \").split(',')])\n",
    "\n",
    "    mean_list = []\n",
    "    # iterate though the pmf dictionary\n",
    "    for key, val in initial_pmf_from_list.GetDict().iteritems():\n",
    "        mean_list.append(key*val)\n",
    "\n",
    "    pmf_mean = sum(mean_list)\n",
    "    \n",
    "    print \"The mean of the PMF is: \", pmf_mean\n",
    "    \n",
    "    return initial_pmf_from_list, pmf_mean \n",
    "    "
   ]
  },
  {
   "cell_type": "code",
   "execution_count": 60,
   "metadata": {
    "collapsed": false
   },
   "outputs": [],
   "source": [
    "def PmfVar(initial_pmf_from_list ,pmf_mean):\n",
    "    \n",
    "    i = 0\n",
    "    variance_list = []\n",
    "    for key, val in initial_pmf_from_list.GetDict().iteritems():\n",
    "        \n",
    "        variance_list.append(val*(key-pmf_mean)**2)\n",
    "        \n",
    "    pmf_var = sum(variance_list)\n",
    "    \n",
    "    print \"The variance of the PMF is: \", pmf_var\n",
    "    \n",
    "    return pmf_var\n",
    "        \n",
    "        "
   ]
  },
  {
   "cell_type": "code",
   "execution_count": 64,
   "metadata": {
    "collapsed": false
   },
   "outputs": [
    {
     "name": "stdout",
     "output_type": "stream",
     "text": [
      "Please enter list: 1,2,3,4,5,6\n",
      "The mean of the PMF is:  3.5\n"
     ]
    },
    {
     "data": {
      "text/plain": [
       "(<Pmf.Pmf at 0x10aae1750>, 3.5)"
      ]
     },
     "execution_count": 64,
     "metadata": {},
     "output_type": "execute_result"
    }
   ],
   "source": [
    "PmfMean()"
   ]
  },
  {
   "cell_type": "code",
   "execution_count": 67,
   "metadata": {
    "collapsed": false
   },
   "outputs": [
    {
     "ename": "NameError",
     "evalue": "name 'pmf_mean' is not defined",
     "output_type": "error",
     "traceback": [
      "\u001b[0;31m---------------------------------------------------------------------------\u001b[0m",
      "\u001b[0;31mNameError\u001b[0m                                 Traceback (most recent call last)",
      "\u001b[0;32m<ipython-input-67-60f079ebcf3e>\u001b[0m in \u001b[0;36m<module>\u001b[0;34m()\u001b[0m\n\u001b[0;32m----> 1\u001b[0;31m \u001b[0mPmfVar\u001b[0m\u001b[0;34m(\u001b[0m\u001b[0minitial_pmf_from_list\u001b[0m\u001b[0;34m,\u001b[0m \u001b[0mpmf_mean\u001b[0m\u001b[0;34m)\u001b[0m\u001b[0;34m\u001b[0m\u001b[0m\n\u001b[0m",
      "\u001b[0;31mNameError\u001b[0m: name 'pmf_mean' is not defined"
     ]
    }
   ],
   "source": [
    "PmfVar(initial_pmf_from_list, pmf_mean)"
   ]
  },
  {
   "cell_type": "code",
   "execution_count": 48,
   "metadata": {
    "collapsed": false
   },
   "outputs": [
    {
     "name": "stdout",
     "output_type": "stream",
     "text": [
      "Please enter list: 1,2,3,4,5\n",
      " The mean of the PMF is:  3.0\n"
     ]
    }
   ],
   "source": [
    "initial_pmf_from_list = Pmf.MakePmfFromList([int(i) for i in raw_input(\"Please enter list: \").split(',')])\n",
    "\n",
    "mean_list = []\n",
    "# iterate though the pmf dictionary\n",
    "for key, val in initial_pmf_from_list.GetDict().iteritems():\n",
    "    mean_list.append(key*val)\n",
    "    \n",
    "print \"The mean of the PMF is: \", sum(mean_list)\n"
   ]
  },
  {
   "cell_type": "code",
   "execution_count": 65,
   "metadata": {
    "collapsed": false
   },
   "outputs": [
    {
     "ename": "NameError",
     "evalue": "name 'pmf_mean' is not defined",
     "output_type": "error",
     "traceback": [
      "\u001b[0;31m---------------------------------------------------------------------------\u001b[0m",
      "\u001b[0;31mNameError\u001b[0m                                 Traceback (most recent call last)",
      "\u001b[0;32m<ipython-input-65-bc829a971f21>\u001b[0m in \u001b[0;36m<module>\u001b[0;34m()\u001b[0m\n\u001b[0;32m----> 1\u001b[0;31m \u001b[0mpmf_mean\u001b[0m\u001b[0;34m\u001b[0m\u001b[0m\n\u001b[0m",
      "\u001b[0;31mNameError\u001b[0m: name 'pmf_mean' is not defined"
     ]
    }
   ],
   "source": [
    "pmf_mean"
   ]
  },
  {
   "cell_type": "code",
   "execution_count": 45,
   "metadata": {
    "collapsed": false
   },
   "outputs": [
    {
     "data": {
      "text/plain": [
       "{1: 0.2, 2: 0.2, 3: 0.2, 4: 0.2, 5: 0.2}"
      ]
     },
     "execution_count": 45,
     "metadata": {},
     "output_type": "execute_result"
    }
   ],
   "source": [
    "initial_pmf_from_list.GetDict()"
   ]
  },
  {
   "cell_type": "code",
   "execution_count": 38,
   "metadata": {
    "collapsed": false
   },
   "outputs": [
    {
     "name": "stdout",
     "output_type": "stream",
     "text": [
      "<Pmf.Pmf object at 0x103f5c450>\n"
     ]
    }
   ],
   "source": [
    "print initial_list"
   ]
  },
  {
   "cell_type": "code",
   "execution_count": 40,
   "metadata": {
    "collapsed": true
   },
   "outputs": [],
   "source": [
    "practice_list = [1,2,3,4,5]"
   ]
  },
  {
   "cell_type": "code",
   "execution_count": 41,
   "metadata": {
    "collapsed": false
   },
   "outputs": [
    {
     "data": {
      "text/plain": [
       "15"
      ]
     },
     "execution_count": 41,
     "metadata": {},
     "output_type": "execute_result"
    }
   ],
   "source": [
    "sum(practice_list)"
   ]
  },
  {
   "cell_type": "code",
   "execution_count": 78,
   "metadata": {
    "collapsed": false
   },
   "outputs": [],
   "source": [
    "def test_return(test_object):\n",
    "    if test_object:\n",
    "        print \"Success!\"\n",
    "    else:\n",
    "        print \"fail!\"\n",
    "    print test_object"
   ]
  },
  {
   "cell_type": "code",
   "execution_count": 70,
   "metadata": {
    "collapsed": true
   },
   "outputs": [],
   "source": [
    "def test_generate():\n",
    "    test_object =  raw_input(\"enter it: \")\n",
    "    return test_object"
   ]
  },
  {
   "cell_type": "code",
   "execution_count": 79,
   "metadata": {
    "collapsed": false
   },
   "outputs": [
    {
     "name": "stdout",
     "output_type": "stream",
     "text": [
      "enter it: testy\n"
     ]
    }
   ],
   "source": [
    "test_object = test_generate()"
   ]
  },
  {
   "cell_type": "code",
   "execution_count": 80,
   "metadata": {
    "collapsed": false
   },
   "outputs": [
    {
     "name": "stdout",
     "output_type": "stream",
     "text": [
      "Success!\n",
      "testy\n"
     ]
    }
   ],
   "source": [
    "test_return(test_object)"
   ]
  },
  {
   "cell_type": "code",
   "execution_count": null,
   "metadata": {
    "collapsed": true
   },
   "outputs": [],
   "source": []
  }
 ],
 "metadata": {
  "kernelspec": {
   "display_name": "Python 2",
   "language": "python",
   "name": "python2"
  },
  "language_info": {
   "codemirror_mode": {
    "name": "ipython",
    "version": 2
   },
   "file_extension": ".py",
   "mimetype": "text/x-python",
   "name": "python",
   "nbconvert_exporter": "python",
   "pygments_lexer": "ipython2",
   "version": "2.7.9"
  }
 },
 "nbformat": 4,
 "nbformat_minor": 0
}
