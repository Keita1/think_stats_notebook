{
 "cells": [
  {
   "cell_type": "markdown",
   "metadata": {},
   "source": [
    "# Chapter 3: Cumulative Distribution Functions"
   ]
  },
  {
   "cell_type": "markdown",
   "metadata": {},
   "source": [
    "Exercise 3.1 Build a PMF of these data and compute the mean as perceived\n",
    "by the Dean. Since the data have been grouped in bins, you can use the\n",
    "mid-point of each bin.\n",
    "Now find the distribution of class sizes as perceived by students and compute\n",
    "its mean.\n",
    "Suppose you want to find the distribution of class sizes at a college, but you\n",
    "can’t get reliable data from the Dean. An alternative is to choose a random\n",
    "sample of students and ask them the number of students in each of their\n",
    "classes. Then you could compute the PMF of their responses.\n",
    "The result would be biased because large classes would be oversampled,\n",
    "but you could estimate the actual distribution of class sizes by applying an\n",
    "appropriate transformation to the observed distribution.\n",
    "Write a function called UnbiasPmf that takes the PMF of the observed values\n",
    "and returns a new Pmf object that estimates the distribution of class sizes."
   ]
  },
  {
   "cell_type": "markdown",
   "metadata": {},
   "source": [
    "size count \n",
    "\n",
    "5- 9 8\n",
    "\n",
    "10-14 8\n",
    "\n",
    "15-19 14\n",
    "\n",
    "20-24 4\n",
    "\n",
    "25-29 6\n",
    "\n",
    "30-34 12\n",
    "\n",
    "35-39 8\n",
    "\n",
    "40-44 3\n",
    "\n",
    "45-49 2"
   ]
  },
  {
   "cell_type": "code",
   "execution_count": 17,
   "metadata": {
    "collapsed": false
   },
   "outputs": [
    {
     "data": {
      "text/plain": [
       "(7.0, 12.0, 22.0, 27.0, 32.0, 37.0, 42.0, 47.0)"
      ]
     },
     "execution_count": 17,
     "metadata": {},
     "output_type": "execute_result"
    }
   ],
   "source": [
    "numpy.mean([5,6,7,8,9]),numpy.mean([10,11,12,13,14]),numpy.mean([20,21,22,23,24]),numpy.mean([25,26,27,28,29]),numpy.mean([30,31,32,33,34]),numpy.mean([35,36,37,38,39]),numpy.mean([40,41,42,43,44]),numpy.mean([45,46,47,48,49])"
   ]
  },
  {
   "cell_type": "code",
   "execution_count": 27,
   "metadata": {
    "collapsed": false
   },
   "outputs": [],
   "source": [
    "size_list = ['5-9', '10-14', '15-19', '20-24', '25-29', '30-34','35-39','40-44','45-49']\n",
    "size_avg_list = [7.0, 12.0, 17.0, 22.0, 27.0, 32.0, 37.0, 42.0, 47.0]\n",
    "count_list = [8,8,14,4,6,12,8,3,2]"
   ]
  },
  {
   "cell_type": "code",
   "execution_count": 28,
   "metadata": {
    "collapsed": false
   },
   "outputs": [],
   "source": [
    "size_count_dict = { size: count_list[i]   for i,size in enumerate(size_avg_list)}"
   ]
  },
  {
   "cell_type": "code",
   "execution_count": 29,
   "metadata": {
    "collapsed": false
   },
   "outputs": [
    {
     "data": {
      "text/plain": [
       "{7.0: 8,\n",
       " 12.0: 8,\n",
       " 17.0: 14,\n",
       " 22.0: 4,\n",
       " 27.0: 6,\n",
       " 32.0: 12,\n",
       " 37.0: 8,\n",
       " 42.0: 3,\n",
       " 47.0: 2}"
      ]
     },
     "execution_count": 29,
     "metadata": {},
     "output_type": "execute_result"
    }
   ],
   "source": [
    "size_count_dict"
   ]
  },
  {
   "cell_type": "code",
   "execution_count": 30,
   "metadata": {
    "collapsed": false
   },
   "outputs": [],
   "source": [
    "class_size = Pmf.MakePmfFromDict(size_count_dict)"
   ]
  },
  {
   "cell_type": "code",
   "execution_count": 31,
   "metadata": {
    "collapsed": false
   },
   "outputs": [
    {
     "data": {
      "text/plain": [
       "{7.0: 0.12307692307692308,\n",
       " 12.0: 0.12307692307692308,\n",
       " 17.0: 0.2153846153846154,\n",
       " 22.0: 0.06153846153846154,\n",
       " 27.0: 0.09230769230769231,\n",
       " 32.0: 0.18461538461538463,\n",
       " 37.0: 0.12307692307692308,\n",
       " 42.0: 0.046153846153846156,\n",
       " 47.0: 0.03076923076923077}"
      ]
     },
     "execution_count": 31,
     "metadata": {},
     "output_type": "execute_result"
    }
   ],
   "source": [
    "class_size.GetDict()"
   ]
  },
  {
   "cell_type": "code",
   "execution_count": 32,
   "metadata": {
    "collapsed": true
   },
   "outputs": [],
   "source": [
    "import Pmf\n",
    "import numpy"
   ]
  },
  {
   "cell_type": "code",
   "execution_count": 33,
   "metadata": {
    "collapsed": false
   },
   "outputs": [
    {
     "data": {
      "text/plain": [
       "23.692307692307693"
      ]
     },
     "execution_count": 33,
     "metadata": {},
     "output_type": "execute_result"
    }
   ],
   "source": [
    "# Class sizes as perceived by the dean\n",
    "\n",
    "class_size.Mean()"
   ]
  },
  {
   "cell_type": "code",
   "execution_count": 35,
   "metadata": {
    "collapsed": false
   },
   "outputs": [
    {
     "data": {
      "text/plain": [
       "23.219999999999999"
      ]
     },
     "execution_count": 35,
     "metadata": {},
     "output_type": "execute_result"
    }
   ],
   "source": [
    "# To get the sizes as perceived by the students, I would assume 1000 students\n",
    "# then I would take the \"dean's\" distribution and sample by the number of students\n",
    "listicle = []\n",
    "for i in range(1000):\n",
    "    listicle.append(class_size.Random())\n",
    "numpy.mean(listicle)"
   ]
  },
  {
   "cell_type": "code",
   "execution_count": null,
   "metadata": {
    "collapsed": true
   },
   "outputs": [],
   "source": [
    "def class_sizes():\n",
    "    "
   ]
  }
 ],
 "metadata": {
  "kernelspec": {
   "display_name": "Python 2",
   "language": "python",
   "name": "python2"
  },
  "language_info": {
   "codemirror_mode": {
    "name": "ipython",
    "version": 2
   },
   "file_extension": ".py",
   "mimetype": "text/x-python",
   "name": "python",
   "nbconvert_exporter": "python",
   "pygments_lexer": "ipython2",
   "version": "2.7.9"
  }
 },
 "nbformat": 4,
 "nbformat_minor": 0
}
